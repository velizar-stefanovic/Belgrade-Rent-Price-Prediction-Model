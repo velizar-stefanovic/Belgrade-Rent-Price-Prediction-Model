{
 "cells": [
  {
   "cell_type": "markdown",
   "metadata": {},
   "source": [
    "<h1 style='color:purple' align='center'>Predicting Property Renting Prices in Belgrade, Serbia</h1>"
   ]
  },
  {
   "cell_type": "markdown",
   "metadata": {},
   "source": [
    "Dataset is downloaded from here: https://www.nekretnine.rs/stambeni-objekti/stanovi/izdavanje-prodaja/izdavanje/grad/beograd/"
   ]
  },
  {
   "cell_type": "code",
   "execution_count": 154,
   "metadata": {},
   "outputs": [],
   "source": [
    "import pandas as pd\n",
    "import numpy as np\n",
    "from matplotlib import pyplot as plt\n",
    "from sklearn.tree import DecisionTreeRegressor\n",
    "from sklearn.model_selection import train_test_split, cross_val_score, cross_val_predict\n",
    "from sklearn.metrics import mean_absolute_error\n",
    "from sklearn.ensemble import RandomForestRegressor\n",
    "from sklearn.linear_model import LinearRegression"
   ]
  },
  {
   "cell_type": "markdown",
   "metadata": {},
   "source": [
    "<h2 style='color:blue'>Data Load: Load Belgrade property prices into a DataFrame</h2>"
   ]
  },
  {
   "cell_type": "code",
   "execution_count": 155,
   "metadata": {},
   "outputs": [
    {
     "data": {
      "text/plain": [
       "Index(['id_property', 'date_scrape', 'property_name', 'date_post',\n",
       "       'date_update', 'area_m2', 'price_eur', 'rooms', 'heating', 'parking',\n",
       "       'furniture', 'details', 'description', 'location'],\n",
       "      dtype='object')"
      ]
     },
     "execution_count": 155,
     "metadata": {},
     "output_type": "execute_result"
    }
   ],
   "source": [
    "data_file_path = 'property_data_2023-08-09.csv'\n",
    "df = pd.read_csv(data_file_path)\n",
    "df.columns"
   ]
  },
  {
   "cell_type": "markdown",
   "metadata": {},
   "source": [
    "**Drop features that are not required to build the model**"
   ]
  },
  {
   "cell_type": "code",
   "execution_count": 156,
   "metadata": {},
   "outputs": [],
   "source": [
    "df.drop(columns = ['id_property', 'date_scrape', 'property_name',\n",
    "       'date_update', 'description', 'furniture'], inplace=True)"
   ]
  },
  {
   "cell_type": "markdown",
   "metadata": {},
   "source": [
    "<h2 style='color:blue'>Data Cleaning and Feature Engineering</h2>"
   ]
  },
  {
   "cell_type": "markdown",
   "metadata": {},
   "source": [
    "**Check for missing values and drop rows if needed**"
   ]
  },
  {
   "cell_type": "code",
   "execution_count": 157,
   "metadata": {},
   "outputs": [
    {
     "name": "stdout",
     "output_type": "stream",
     "text": [
      "price_eur    25\n",
      "rooms        75\n",
      "dtype: int64\n"
     ]
    }
   ],
   "source": [
    "print(df.isna().sum()[df.isna().sum()>0])"
   ]
  },
  {
   "cell_type": "code",
   "execution_count": 158,
   "metadata": {},
   "outputs": [],
   "source": [
    "df.dropna(subset=['price_eur'], inplace=True)\n",
    "df.dropna(subset=['rooms'], inplace = True)"
   ]
  },
  {
   "cell_type": "markdown",
   "metadata": {},
   "source": [
    "**Break down the location column and clean it**"
   ]
  },
  {
   "cell_type": "code",
   "execution_count": 159,
   "metadata": {},
   "outputs": [],
   "source": [
    "df['country'] = df['location'].str.split(',').str[0]\n",
    "df['city'] = df['location'].str.split(',').str[2]\n",
    "df['neighborhood'] = df['location'].str.split(',').str[3]\n",
    "\n",
    "df.dropna(subset=['neighborhood'], inplace = True)\n",
    "df['neighborhood'] = df['neighborhood'].str.split('(', n=1).str[0]\n",
    "df['neighborhood'] = df['neighborhood'].str.strip().str.replace('\\s+', ' ', regex=True)"
   ]
  },
  {
   "cell_type": "markdown",
   "metadata": {},
   "source": [
    "**Dimensionality Reduction**"
   ]
  },
  {
   "cell_type": "code",
   "execution_count": 160,
   "metadata": {},
   "outputs": [],
   "source": [
    "# change all neighborhood values that appear less than 10 times to 'Other'\n",
    "neighborhood_stats = df.groupby('neighborhood')['neighborhood'].agg('count')\n",
    "df['neighborhood'] = df['neighborhood'].apply(lambda x: 'Other' if x in neighborhood_stats[neighborhood_stats<10] else x)"
   ]
  },
  {
   "cell_type": "markdown",
   "metadata": {},
   "source": [
    "**Extract general condition of the property from the 'details' column**"
   ]
  },
  {
   "cell_type": "code",
   "execution_count": 161,
   "metadata": {},
   "outputs": [
    {
     "data": {
      "text/plain": [
       "general_condition\n",
       "Standardna gradnja          2650\n",
       "Novogradnja                 1429\n",
       "Izvorno stanje               413\n",
       "Lux                          147\n",
       "Kompletna rekonstrukcija      72\n",
       "Delimicna rekonstrukcija       9\n",
       "Zavrsena izgradnja             5\n",
       "Name: count, dtype: int64"
      ]
     },
     "execution_count": 161,
     "metadata": {},
     "output_type": "execute_result"
    }
   ],
   "source": [
    "condition_cases = ['Novogradnja','Lux','Delimicna rekonstrukcija','Izvorno stanje','Kompletna rekonstrukcija',\\\n",
    "                   'Standardna gradnja','Zavrsena izgradnja']\n",
    "\n",
    "def get_general_condition(details, condition_cases):\n",
    "    for condition in condition_cases:\n",
    "        if condition in str(details):\n",
    "            return condition\n",
    "\n",
    "df['general_condition'] = df['details'].apply(get_general_condition, args=([condition_cases]))\n",
    "\n",
    "# fill NA general_condition values with the most common (standard) value \"Standardna gradnja\"\n",
    "df['general_condition'].fillna(\"Standardna gradnja\")\n",
    "df['general_condition'].value_counts()"
   ]
  },
  {
   "cell_type": "markdown",
   "metadata": {},
   "source": [
    "**Clean columns**"
   ]
  },
  {
   "cell_type": "code",
   "execution_count": 162,
   "metadata": {},
   "outputs": [],
   "source": [
    "df['price_eur'] = df['price_eur'].astype(float)"
   ]
  },
  {
   "cell_type": "code",
   "execution_count": 163,
   "metadata": {},
   "outputs": [],
   "source": [
    "df['area_m2'] = df['area_m2'].apply(pd.to_numeric, errors='coerce')\n",
    "df = df[df['area_m2'].notna()]"
   ]
  },
  {
   "cell_type": "code",
   "execution_count": 164,
   "metadata": {},
   "outputs": [
    {
     "data": {
      "text/plain": [
       "rooms\n",
       "3.0    1651\n",
       "2.0    1648\n",
       "4.0     876\n",
       "1.0     375\n",
       "5.0     174\n",
       "6.0      44\n",
       "2.5      17\n",
       "1.5      10\n",
       "3.5      10\n",
       "4.5       3\n",
       "Name: count, dtype: int64"
      ]
     },
     "execution_count": 164,
     "metadata": {},
     "output_type": "execute_result"
    }
   ],
   "source": [
    "df= df[(df['rooms'] >= 1) & (df['rooms']< 7)]\n",
    "df['rooms'].value_counts()\n",
    "# plt_hist('rooms', 20)"
   ]
  },
  {
   "cell_type": "code",
   "execution_count": 165,
   "metadata": {},
   "outputs": [
    {
     "data": {
      "text/plain": [
       "heating\n",
       "Klima        2263\n",
       "Centralno    1747\n",
       "Etazno        272\n",
       "Ostalo        172\n",
       "TA            108\n",
       "Toplotna       22\n",
       "Podno          19\n",
       "Name: count, dtype: int64"
      ]
     },
     "execution_count": 165,
     "metadata": {},
     "output_type": "execute_result"
    }
   ],
   "source": [
    "df['heating'] = df['heating'].str.replace(',','')\n",
    "df = df.loc[df['heating'] != '-']\n",
    "df = df.loc[df['heating'] != 'Pec']\n",
    "df = df.loc[df['heating'] != 'Plinska']\n",
    "df = df.loc[df['heating'] != '']\n",
    "df['heating'] = df['heating'].str.strip()\n",
    "df['heating'].value_counts()"
   ]
  },
  {
   "cell_type": "markdown",
   "metadata": {},
   "source": [
    "<h2 style='color:blue'>Remove outliers</h2>"
   ]
  },
  {
   "cell_type": "code",
   "execution_count": 166,
   "metadata": {},
   "outputs": [],
   "source": [
    "df['price_per_m2'] = df['price_eur']/df['area_m2']"
   ]
  },
  {
   "cell_type": "code",
   "execution_count": 167,
   "metadata": {},
   "outputs": [
    {
     "name": "stdout",
     "output_type": "stream",
     "text": [
      "(4505, 13)\n"
     ]
    }
   ],
   "source": [
    "# remove all properties whose average room size is less than 5m2 or greater than 50m2\n",
    "df = df[~(df.area_m2 / df.rooms <5)]\n",
    "df = df[~(df.area_m2 / df.rooms >50)]\n",
    "print(df.shape)\n",
    "# remove all properties that were posted before 2023-01-01\n",
    "df = df[df['date_post'].str.endswith('2023')]"
   ]
  },
  {
   "cell_type": "code",
   "execution_count": 168,
   "metadata": {},
   "outputs": [],
   "source": [
    "def plt_hist(column_name, bins):\n",
    "    plt.figure(figsize=(10, 6))\n",
    "    plt.hist(df[column_name], bins=bins, color='blue', alpha=0.7)\n",
    "    \n",
    "    plt.xlabel(f'{column_name}')\n",
    "    plt.ylabel('Frequency')\n",
    "    plt.title(f'Histogram of {column_name}')\n",
    "    \n",
    "    plt.show()"
   ]
  },
  {
   "cell_type": "code",
   "execution_count": 169,
   "metadata": {},
   "outputs": [
    {
     "data": {
      "image/png": "[encoded data removed]",
      "text/plain": [
       "<Figure size 1000x600 with 1 Axes>"
      ]
     },
     "metadata": {},
     "output_type": "display_data"
    }
   ],
   "source": [
    "# remove all properties that have price_per_m2 higher than 40\n",
    "df = df[df['price_per_m2'] < 40]\n",
    "plt_hist('price_per_m2', 10)"
   ]
  },
  {
   "cell_type": "code",
   "execution_count": 170,
   "metadata": {},
   "outputs": [],
   "source": [
    "# remove all properties whose price_per_m2 is less than (mean - 1 std deviation) or\n",
    "# greater than (mean + 1 std deviation), in that specific neighbourhood\n",
    "\n",
    "def rem_loc_outliers(df, column, num_of_dev):\n",
    "    final_df = pd.DataFrame()\n",
    "    for key, sub_df in df.groupby('neighborhood'):\n",
    "        mean = np.mean(sub_df[column])\n",
    "        std_dev = np.std(sub_df[column])\n",
    "        reduced_df = sub_df[(sub_df[column] > (mean - std_dev * num_of_dev)) & (sub_df[column] <= (mean + std_dev * num_of_dev))]\n",
    "        final_df = pd.concat([final_df, reduced_df], ignore_index = True)\n",
    "    return final_df\n",
    "\n",
    "df = rem_loc_outliers(df,'price_per_m2', 1)"
   ]
  },
  {
   "cell_type": "code",
   "execution_count": 171,
   "metadata": {},
   "outputs": [],
   "source": [
    "# There are outliers which have lower price_per_m2 than the properties with the same area_m2/furniture, that have lower number of rooms.\n",
    "# def plot_loc_scatter_chart(df, neighborhood, general_condition=\"Standardna gradnja\"):\n",
    "#     rooms1 = df[(df.rooms == 1) & (df.neighborhood == neighborhood) & (df.general_condition == general_condition)]\n",
    "#     rooms15 = df[(df.rooms == 2) & (df.neighborhood == neighborhood) & (df.general_condition == general_condition)]\n",
    "#     plt.rcParams['figure.figsize']= (15, 10)\n",
    "#     plt.scatter(rooms1.area_m2, rooms1.price_per_m2, color = 'blue', label = '1 room', s = 100)\n",
    "#     plt.scatter(rooms15.area_m2, rooms15.price_per_m2, color = 'green', label = '2 rooms', s= 100)\n",
    "#     plt.xlabel('Total area in m2')\n",
    "#     plt.ylabel('Price per m2')\n",
    "#     plt.title(neighborhood)\n",
    "#     plt.legend()\n",
    "    \n",
    "# plot_loc_scatter_chart(df, 'Vracar', \"Standardna gradnja\")"
   ]
  },
  {
   "cell_type": "code",
   "execution_count": 172,
   "metadata": {},
   "outputs": [],
   "source": [
    "# In practice, more number of rooms per apartment should increase price_per_m2. However, by removing outliers where price_per_m2\n",
    "# for lower-bedroom apartment is bigger than the price_per_m2 for one higher-badroom apartment, on the same location,\n",
    "# with the same furnitrue, we couldn't get any improvemenet on the model\n",
    "\n",
    "# def rem_room_furniture_outliers(df):\n",
    "#     exclude_indicies = np.array([])\n",
    "#     for neighborhood, neighborhood_df in df.groupby('neighborhood'):\n",
    "#         room_furniture_stats = {}\n",
    "#         for furniture, furniture_df in neighborhood_df.groupby('furniture'):\n",
    "#             for room, room_df in furniture_df.groupby('rooms'):\n",
    "#                 room_furniture_stats[(furniture, room)] = {\n",
    "#                     'mean': np.mean(room_df.price_per_m2),\n",
    "#                     'std_dev': np.std(room_df.price_per_m2),\n",
    "#                     'count': room_df.shape[0]S\n",
    "#                 }\n",
    "#         for furniture, furniture_df in neighborhood_df.groupby('furniture'):\n",
    "#             for room, room_df in furniture_df.groupby('rooms'):\n",
    "#                 stats = room_furniture_stats.get((furniture, room -1))\n",
    "#                 if stats and stats['count'] > 5:\n",
    "#                     exclude_indicies = np.append(exclude_indicies, room_df[room_df['price_per_m2'] < (stats['mean'])].index.values)\n",
    "#     return df.drop(exclude_indicies, axis='index')\n",
    "                                    \n",
    "                    \n",
    "# df_test = rem_room_furniture_outliers(df) # not used in the final model!"
   ]
  },
  {
   "cell_type": "code",
   "execution_count": 173,
   "metadata": {},
   "outputs": [],
   "source": [
    "# dropping unnecessary columns\n",
    "df_final = df.drop(columns = ['date_post', 'details','location','price_per_m2','city','country','parking'])\n",
    "# print(df_final['neighborhood'].value_counts())\n",
    "\n",
    "# changing categorical variables into 0s and 1s to prepare for the model\n",
    "df_final = pd.get_dummies(df_final, columns=['general_condition','neighborhood','heating'],drop_first=True)"
   ]
  },
  {
   "cell_type": "markdown",
   "metadata": {},
   "source": [
    "<h2 style='color:blue'>Apply models</h2>"
   ]
  },
  {
   "cell_type": "code",
   "execution_count": 174,
   "metadata": {},
   "outputs": [],
   "source": [
    "y = df_final.price_eur\n",
    "X = df_final.drop(columns = ['price_eur'])"
   ]
  },
  {
   "cell_type": "markdown",
   "metadata": {},
   "source": [
    "**DECISION TREE**"
   ]
  },
  {
   "cell_type": "code",
   "execution_count": 175,
   "metadata": {},
   "outputs": [
    {
     "name": "stdout",
     "output_type": "stream",
     "text": [
      "MAE 298.89556744888154\n"
     ]
    }
   ],
   "source": [
    "dt_regressor = DecisionTreeRegressor(random_state=1)\n",
    "predicted_y = cross_val_predict(dt_regressor, X, y, cv=5)\n",
    "mae = mean_absolute_error(y, predicted_y)\n",
    "print(\"MAE\", mae)"
   ]
  },
  {
   "cell_type": "code",
   "execution_count": 176,
   "metadata": {},
   "outputs": [
    {
     "name": "stdout",
     "output_type": "stream",
     "text": [
      "All scores mean: 0.546482183271559\n"
     ]
    }
   ],
   "source": [
    "all_scores_mean = (cross_val_score(DecisionTreeRegressor(random_state = 1), X, y, cv=5)).mean()\n",
    "print(f\"All scores mean: {all_scores_mean}\")"
   ]
  },
  {
   "cell_type": "markdown",
   "metadata": {},
   "source": [
    "**DECISION TREE WITH SPECIFIED DEPTH**"
   ]
  },
  {
   "cell_type": "code",
   "execution_count": 177,
   "metadata": {},
   "outputs": [
    {
     "name": "stdout",
     "output_type": "stream",
     "text": [
      "Max leaf nodes: 5  \t MAE: 313.2519096153838  \t All scores mean:0.5355427737446\n",
      "\n",
      "Max leaf nodes: 25  \t MAE: 280.45626521338585  \t All scores mean:0.6169954848145036\n",
      "\n",
      "Max leaf nodes: 50  \t MAE: 281.8342456158687  \t All scores mean:0.6087291399449908\n",
      "\n",
      "Max leaf nodes: 100  \t MAE: 282.86607506379687  \t All scores mean:0.5990163517993864\n",
      "\n",
      "Max leaf nodes: 500  \t MAE: 292.71729667129  \t All scores mean:0.5648377843368738\n",
      "\n",
      "Max leaf nodes: 5000  \t MAE: 298.57657472210786  \t All scores mean:0.5502030041099608\n",
      "\n"
     ]
    }
   ],
   "source": [
    "for max_leaf_nodes in [5, 25, 50, 100, 500, 5000]:\n",
    "    dt_regressor_depth = DecisionTreeRegressor(max_leaf_nodes=max_leaf_nodes, random_state=0)\n",
    "    predicted_y = cross_val_predict(dt_regressor_depth, X, y, cv=5)\n",
    "    # mae = get_mae(max_leaf_nodes, train_X, val_X, train_y, val_y)\n",
    "    mae = mean_absolute_error(y, predicted_y)\n",
    "    all_scores_mean = (cross_val_score(DecisionTreeRegressor(max_leaf_nodes=max_leaf_nodes, random_state=0), X, y)).mean()\n",
    "    print(f\"Max leaf nodes: {max_leaf_nodes}  \\t MAE: {mae}  \\t All scores mean:{all_scores_mean}\\n\")"
   ]
  },
  {
   "cell_type": "markdown",
   "metadata": {},
   "source": [
    "**RANDOM FORESTS**"
   ]
  },
  {
   "cell_type": "code",
   "execution_count": 178,
   "metadata": {},
   "outputs": [
    {
     "name": "stdout",
     "output_type": "stream",
     "text": [
      "MAE 273.4571429007081\n"
     ]
    }
   ],
   "source": [
    "rf_regessor = RandomForestRegressor(random_state=1,n_estimators = 30)\n",
    "predicted_y = cross_val_predict(rf_regessor, X, y, cv=5)\n",
    "mae = mean_absolute_error(y, predicted_y)\n",
    "print(\"MAE\", mae)"
   ]
  },
  {
   "cell_type": "code",
   "execution_count": 179,
   "metadata": {},
   "outputs": [
    {
     "name": "stdout",
     "output_type": "stream",
     "text": [
      "All scores mean: 0.6309808729394177\n"
     ]
    }
   ],
   "source": [
    "all_scores_mean = cross_val_score(RandomForestRegressor(random_state=1,n_estimators = 30), X, y).mean()\n",
    "print(f\"All scores mean: {all_scores_mean}\")"
   ]
  },
  {
   "cell_type": "markdown",
   "metadata": {},
   "source": [
    "**LINEAR REGRESSION**"
   ]
  },
  {
   "cell_type": "code",
   "execution_count": 180,
   "metadata": {},
   "outputs": [
    {
     "name": "stdout",
     "output_type": "stream",
     "text": [
      "Mean Absolute Error: 158.61019315635167\n",
      "Score: 0.8963225401625199\n"
     ]
    }
   ],
   "source": [
    "lin_reg_model = LinearRegression()\n",
    "train_X, test_X, train_y, test_y = train_test_split(X, y, test_size = 0.2, random_state = 0)\n",
    "\n",
    "lin_reg_model.fit(train_X, train_y)\n",
    "price_predictions = lin_reg_model.predict(test_X)\n",
    "\n",
    "print(f\"Mean Absolute Error: {mean_absolute_error(test_y, price_predictions)}\")\n",
    "print(f\"Score: {lin_reg_model.score(test_X, test_y)}\")"
   ]
  },
  {
   "cell_type": "markdown",
   "metadata": {},
   "source": [
    "<h3 style='color:green'>Linear Regression has the highes score mean out of all models tested, and it will be used for the future price predictions</h3>"
   ]
  },
  {
   "cell_type": "markdown",
   "metadata": {},
   "source": [
    "<h2 style='color:blue'>Price Prediction Test</h2>"
   ]
  },
  {
   "cell_type": "code",
   "execution_count": 181,
   "metadata": {},
   "outputs": [],
   "source": [
    "def predict_price(area_m2, rooms, general_condition, heating, neighborhood):\n",
    "    try:\n",
    "        gen_cond_index = np.where(X.columns == 'general_condition_' + general_condition)[0][0]\n",
    "    except:\n",
    "        gen_cond_index = None\n",
    "        if general_condition != 'Delimicna rekonstrukcija':\n",
    "            print(f\"'{general_condition}' was not recognized as correct value for general condition, so 'Standardna gradnja' was used.\")\n",
    "    try:\n",
    "        heat_index = np.where(X.columns == 'heating_' + heating)[0][0]\n",
    "    except:\n",
    "        heat_index = None\n",
    "        if heating != 'Centralno':\n",
    "            print(f\"'{heating}' was not recognized as correct value for heating, so 'Centralno' was used.\")\n",
    "    try:\n",
    "        neighborhood_index = np.where(X.columns == 'neighborhood_' + neighborhood)[0][0]\n",
    "    except:\n",
    "        neighborhood_index = None\n",
    "        print(f\"'{neighborhood}' was not recognized as correct value for neighborhood, so 'Other' was used.\")\n",
    "\n",
    "    x = np.zeros(len(X.columns))\n",
    "    x[0] = area_m2\n",
    "    x[1] = rooms\n",
    "    if gen_cond_index:\n",
    "        x[gen_cond_index] = 1\n",
    "    if heat_index:\n",
    "        x[heat_index] = 1\n",
    "    if neighborhood_index:\n",
    "        x[neighborhood_index] = 1\n",
    "\n",
    "    return lin_reg_model.predict([x])[0]"
   ]
  },
  {
   "cell_type": "code",
   "execution_count": 182,
   "metadata": {},
   "outputs": [
    {
     "name": "stderr",
     "output_type": "stream",
     "text": [
      "/Users/velizar/Desktop/nekretnine_prediction_model/belgrade_rpp/lib/python3.10/site-packages/sklearn/base.py:464: UserWarning: X does not have valid feature names, but LinearRegression was fitted with feature names\n",
      "  warnings.warn(\n"
     ]
    },
    {
     "data": {
      "text/plain": [
       "560.304169927473"
      ]
     },
     "execution_count": 182,
     "metadata": {},
     "output_type": "execute_result"
    }
   ],
   "source": [
    "predict_price(40, 2, \"Novogradnja\", \"Centralno\", \"Djeram pijaca\")"
   ]
  },
  {
   "cell_type": "markdown",
   "metadata": {},
   "source": [
    "<h2 style='color:blue'>Export the Model</h2>"
   ]
  },
  {
   "cell_type": "code",
   "execution_count": 183,
   "metadata": {},
   "outputs": [],
   "source": [
    "import pickle\n",
    "\n",
    "with open('nekretnine_prices_model.pickle', 'wb') as f:\n",
    "    pickle.dump(lin_reg_model, f)"
   ]
  },
  {
   "cell_type": "code",
   "execution_count": 184,
   "metadata": {},
   "outputs": [],
   "source": [
    "import json\n",
    "\n",
    "columns = {'data_columns': [col.lower() for col in X.columns]}\n",
    "with open('columns.json', 'w') as f:\n",
    "    f.write(json.dumps(columns))"
   ]
  },
  {
   "cell_type": "code",
   "execution_count": null,
   "metadata": {},
   "outputs": [],
   "source": []
  }
 ],
 "metadata": {
  "kernelspec": {
   "display_name": "Python 3 (ipykernel)",
   "language": "python",
   "name": "python3"
  },
  "language_info": {
   "codemirror_mode": {
    "name": "ipython",
    "version": 3
   },
   "file_extension": ".py",
   "mimetype": "text/x-python",
   "name": "python",
   "nbconvert_exporter": "python",
   "pygments_lexer": "ipython3",
   "version": "3.10.10"
  }
 },
 "nbformat": 4,
 "nbformat_minor": 4
}
